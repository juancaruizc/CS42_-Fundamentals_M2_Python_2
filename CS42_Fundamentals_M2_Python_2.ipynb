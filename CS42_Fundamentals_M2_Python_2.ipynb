{
  "nbformat": 4,
  "nbformat_minor": 0,
  "metadata": {
    "colab": {
      "name": "CS42: Fundamentals: M2: Python 2",
      "provenance": [],
      "collapsed_sections": [],
      "include_colab_link": true
    },
    "kernelspec": {
      "name": "python3",
      "display_name": "Python 3"
    },
    "language_info": {
      "name": "python"
    }
  },
  "cells": [
    {
      "cell_type": "markdown",
      "metadata": {
        "id": "view-in-github",
        "colab_type": "text"
      },
      "source": [
        "<a href=\"https://colab.research.google.com/github/juancaruizc/CS42_Fundamentals_M2_Python_2/blob/main/CS42_Fundamentals_M2_Python_2.ipynb\" target=\"_parent\"><img src=\"https://colab.research.google.com/assets/colab-badge.svg\" alt=\"Open In Colab\"/></a>"
      ]
    },
    {
      "cell_type": "markdown",
      "metadata": {
        "id": "JUs02es85G5m"
      },
      "source": [
        "# Python II\n",
        "\n",
        "* Importing modules\n",
        "* Lists (Python's arrays)\n",
        "* Classes and objects\n",
        "\n",
        "[Python docs](https://docs.python.org/3/)"
      ]
    },
    {
      "cell_type": "code",
      "metadata": {
        "colab": {
          "base_uri": "https://localhost:8080/"
        },
        "id": "ZkBih6iI5D1H",
        "outputId": "59849d71-0024-4e0e-96c5-c3d46e2a037c"
      },
      "source": [
        "#Modules\n",
        "\n",
        "import string\n",
        "import math\n",
        "import datetime as dt  # make dt an alias for 'datetime'\n",
        "from math import sqrt  # you don't need to type \"math.\" in the print statement for this function\n",
        "#from math import *    # import all math functions (expensive to do)\n",
        "\n",
        "print(dir(math)) # prints all math functions\n",
        "\n",
        "print(string.ascii_uppercase)\n",
        "\n",
        "print(math.factorial(6))\n",
        "\n",
        "print(sqrt(5))\n",
        "print(sqrt(8))\n",
        "print(sqrt(2))\n",
        "print(sqrt(1))\n",
        "print(sqrt(0))\n",
        "print(sqrt(7))\n",
        "\n",
        "print(dt.date)\n"
      ],
      "execution_count": 3,
      "outputs": [
        {
          "output_type": "stream",
          "text": [
            "['__doc__', '__loader__', '__name__', '__package__', '__spec__', 'acos', 'acosh', 'asin', 'asinh', 'atan', 'atan2', 'atanh', 'ceil', 'copysign', 'cos', 'cosh', 'degrees', 'e', 'erf', 'erfc', 'exp', 'expm1', 'fabs', 'factorial', 'floor', 'fmod', 'frexp', 'fsum', 'gamma', 'gcd', 'hypot', 'inf', 'isclose', 'isfinite', 'isinf', 'isnan', 'ldexp', 'lgamma', 'log', 'log10', 'log1p', 'log2', 'modf', 'nan', 'pi', 'pow', 'radians', 'remainder', 'sin', 'sinh', 'sqrt', 'tan', 'tanh', 'tau', 'trunc']\n",
            "ABCDEFGHIJKLMNOPQRSTUVWXYZ\n",
            "720\n",
            "2.23606797749979\n",
            "2.8284271247461903\n",
            "1.4142135623730951\n",
            "1.0\n",
            "0.0\n",
            "2.6457513110645907\n",
            "<class 'datetime.date'>\n"
          ],
          "name": "stdout"
        }
      ]
    },
    {
      "cell_type": "code",
      "metadata": {
        "id": "fFOer2Mj_Q3r",
        "colab": {
          "base_uri": "https://localhost:8080/"
        },
        "outputId": "33466776-8ba2-4f0e-e776-e0e282929e43"
      },
      "source": [
        "#Lists (Arrays)\n",
        "\n",
        "#equivalent to JavaScript arrays (Python version)\n",
        "#arrays are a data structure\n",
        "\n",
        "What are some common array operations?\n",
        "\n",
        "* Defining an array?\n",
        "* Get by index?\n",
        "* Get/Set by index?\n",
        "* Iterate over them? Foreach?\n",
        "* Append?\n",
        "* Push, pop?\n",
        "* map function?\n",
        "* filter, reduce?\n",
        "* Copy?\n",
        "* Sort?\n",
        "* Contains?\n",
        "* Slices?\n",
        "* Split?\n",
        "* .set()? Set by index?\n",
        "* Reverse?\n",
        "More info - https://docs.python.org/3/library/stdtypes.html#sequence-types-list-tuple-range"
      ],
      "execution_count": 33,
      "outputs": [
        {
          "output_type": "stream",
          "text": [
            "Object `operations` not found.\n",
            "Object `array` not found.\n",
            "Object `index` not found.\n",
            "Object `index` not found.\n",
            "Object `Foreach` not found.\n",
            "Object `Append` not found.\n",
            "Object `pop` not found.\n",
            "Object `function` not found.\n",
            "Object `reduce` not found.\n",
            "Object `Copy` not found.\n",
            "Object `Sort` not found.\n",
            "Object `Contains` not found.\n",
            "Object `Slices` not found.\n",
            "Object `Split` not found.\n",
            "Object `index` not found.\n",
            "Object `Reverse` not found.\n"
          ],
          "name": "stdout"
        }
      ]
    },
    {
      "cell_type": "code",
      "metadata": {
        "colab": {
          "base_uri": "https://localhost:8080/"
        },
        "id": "MRDArGoICKgc",
        "outputId": "67e87015-941f-46ad-e7fa-f1e97204e71b"
      },
      "source": [
        "a = [0,1,2,3,4]\n",
        "\n",
        "print(a)\n",
        "\n",
        "# Get and set individual elements\n",
        "\n",
        "print(a[1])  # Print index 1\n",
        "\n",
        "a[1] = 99    # Set index 1 to 99\n",
        "\n",
        "print(a[1])  # Print index 1\n",
        "\n",
        "# Negative indexes are from the end of the list\n",
        "\n",
        "print(a[-1])   # Get last element\n",
        "print(a[-2])   # Get next-to-last element\n",
        "\n",
        "# Strings are similar, but immutable\n",
        "#s = \"hello\"\n",
        "#print(s[1])\n",
        "#s[1] = \"X\"  # Can't do this"
      ],
      "execution_count": 21,
      "outputs": [
        {
          "output_type": "stream",
          "text": [
            "[0, 1, 2, 3, 4]\n",
            "1\n",
            "99\n",
            "4\n",
            "3\n"
          ],
          "name": "stdout"
        }
      ]
    },
    {
      "cell_type": "code",
      "metadata": {
        "colab": {
          "base_uri": "https://localhost:8080/"
        },
        "id": "BPjSQUFjDOZD",
        "outputId": "43c3ab3f-ce28-44dd-a1b0-299b22ef3362"
      },
      "source": [
        "# Iterating over a list\n",
        "\n",
        "#    0   1    2\n",
        "a = [0, \"hi\", 3.27]\n",
        "print(a)\n",
        "\n",
        "# Iterating over values\n",
        "for e in a:\n",
        "    print(e)\n",
        "\n",
        "print()\n",
        "\n",
        "# Iterating over indexes\n",
        "for i in range(len(a)):\n",
        "    print(f\"index {i} has value {a[i]}\")\n",
        "\n",
        "print()\n",
        "\n",
        "# Iterating over both\n",
        "for i, v in enumerate(a):\n",
        "    print(f\"index {i} has value {v}\")\n",
        "\n",
        "print()\n",
        "\n",
        "# Behind the scenes on enumerate()\n",
        "#x, y = (1, 2)   # assigns 1 to a and 2 to b from a tuple\n",
        "\n",
        "for x in enumerate(a):  # enumerate() returns tuples\n",
        "    print(f\"index {x[0]} has value {x[1]}\")\n",
        "\n",
        "# Tuples are just like lists, except they're immutable\n"
      ],
      "execution_count": 19,
      "outputs": [
        {
          "output_type": "stream",
          "text": [
            "[0, 'hi', 3.27]\n",
            "0\n",
            "hi\n",
            "3.27\n",
            "\n",
            "index 0 has value 0\n",
            "index 1 has value hi\n",
            "index 2 has value 3.27\n",
            "\n",
            "index 0 has value 0\n",
            "index 1 has value hi\n",
            "index 2 has value 3.27\n",
            "\n",
            "index 0 has value 0\n",
            "index 1 has value hi\n",
            "index 2 has value 3.27\n"
          ],
          "name": "stdout"
        }
      ]
    },
    {
      "cell_type": "code",
      "metadata": {
        "colab": {
          "base_uri": "https://localhost:8080/"
        },
        "id": "RTYwAvzxIskt",
        "outputId": "c66a5246-be64-4aff-fd27-1787f2c18f24"
      },
      "source": [
        "# Slices\n",
        "#\n",
        "# Just like array indexing with [], blended with range()\n",
        "\n",
        "a = [\"a\", \"b\", \"c\", \"d\", \"e\"]\n",
        "\n",
        "print(a[1:3])  # Slice out elements 1 and 2  ['b', 'c']\n",
        "\n",
        "print(a[1:-1]) # Slice everything from index 1 up to (not including) the last index\n",
        "print(a[1:4])  # Slice everything from index 1 up to (not including) index 4\n",
        "\n",
        "# Slice everything except the last two elements\n",
        "print(a[0:-2])  # (method one)\n",
        "print(a[:-2])   # Zero is implied (method two)\n",
        "\n",
        "# Slice everything\n",
        "print(a[0:5])\n",
        "print(a[:5])   # Zero implied\n",
        "print(a[:])   # Length of \n",
        "\n",
        "# Copy a list\n",
        "a_copy = a[:]"
      ],
      "execution_count": 25,
      "outputs": [
        {
          "output_type": "stream",
          "text": [
            "['b', 'c']\n",
            "['b', 'c', 'd']\n",
            "['b', 'c', 'd']\n",
            "['a', 'b', 'c']\n",
            "['a', 'b', 'c']\n",
            "['a', 'b', 'c', 'd', 'e']\n",
            "['a', 'b', 'c', 'd', 'e']\n",
            "['a', 'b', 'c', 'd', 'e']\n"
          ],
          "name": "stdout"
        }
      ]
    },
    {
      "cell_type": "code",
      "metadata": {
        "colab": {
          "base_uri": "https://localhost:8080/"
        },
        "id": "j35Aw3AnLjEW",
        "outputId": "56617531-17cb-4326-a391-6dcd99629d70"
      },
      "source": [
        "print(a)\n",
        "\n",
        "print(a[0:5:2])\n",
        "print(a[::2])\n",
        "\n",
        "print(a[::1])\n",
        "print(a[::-1])  # Idiomatic code to reverse an indexable iterable\n",
        "\n",
        "print(\"hello\"[::-1])"
      ],
      "execution_count": 28,
      "outputs": [
        {
          "output_type": "stream",
          "text": [
            "['h', 'e', 'l', 'l', 'o', '!']\n",
            "['h', 'l', 'o']\n",
            "['h', 'l', 'o']\n",
            "['h', 'e', 'l', 'l', 'o', '!']\n",
            "['!', 'o', 'l', 'l', 'e', 'h']\n",
            "olleh\n"
          ],
          "name": "stdout"
        }
      ]
    },
    {
      "cell_type": "code",
      "metadata": {
        "colab": {
          "base_uri": "https://localhost:8080/"
        },
        "id": "N3SVGyU-Mjcw",
        "outputId": "cf7a5fca-747c-419b-a089-a0b308636667"
      },
      "source": [
        "# Conversions\n",
        "\n",
        "s = \"hello!\"\n",
        "\n",
        "a = list(s)\n",
        "\n",
        "print(a)\n",
        "\n",
        "# Quick way to get a list of alphabetic letters\n",
        "import string\n",
        "print(list(string.ascii_uppercase))\n",
        "\n",
        "# Copying a list (Beej's favorite way)\n",
        "a = [11, 22, 33]\n",
        "b = list(a)   # Copy the list\n",
        "\n",
        "b[1] = 999\n",
        "\n",
        "print(a)\n",
        "print(b)\n",
        "\n",
        "# Converting a list to a string\n",
        "# Only works with lists of strings\n",
        "\n",
        "a = [\"1\", \"b\", \"c\"]\n",
        "\n",
        "s = \"\".join(a)\n",
        "print(s)\n",
        "\n",
        "# Convert to a comma-delimited string\n",
        "s = \", \".join(a)\n",
        "print(s)\n",
        "\n",
        "# Without join:\n",
        "\n",
        "result = \"\"  # Accumulator\n",
        "for s in a:\n",
        "    result += s\n",
        "\n",
        "print(result)\n",
        "\n",
        "\n",
        "# List comprehensions\n",
        "\n",
        "a = list(string.ascii_uppercase)\n",
        "\n",
        "#               output      loop            filter\n",
        "a_no_vowels = [f\"({x})\"    for x in a    if x not in ('A', 'E', 'I', 'O', 'U')]\n",
        "\n",
        "print(a_no_vowels)\n",
        "\n"
      ],
      "execution_count": 42,
      "outputs": [
        {
          "output_type": "stream",
          "text": [
            "['h', 'e', 'l', 'l', 'o', '!']\n",
            "['A', 'B', 'C', 'D', 'E', 'F', 'G', 'H', 'I', 'J', 'K', 'L', 'M', 'N', 'O', 'P', 'Q', 'R', 'S', 'T', 'U', 'V', 'W', 'X', 'Y', 'Z']\n",
            "[11, 22, 33]\n",
            "[11, 999, 33]\n",
            "1bc\n",
            "1, b, c\n",
            "1bc\n"
          ],
          "name": "stdout"
        }
      ]
    },
    {
      "cell_type": "code",
      "metadata": {
        "colab": {
          "base_uri": "https://localhost:8080/"
        },
        "id": "MfrffxUnSDK_",
        "outputId": "3795f127-ac18-4de3-e8f2-1cf74c55fe75"
      },
      "source": [
        "# Classes and objects\n",
        "\n",
        "#Classes are like blueprints\n",
        "#Objecrts are like buildouts of those blueprints\n",
        "#Useful for bundling data... if you have multiple pieces of related data, you put them into an object\n",
        "\n",
        "# Create a new class (blueprint)\n",
        "\n",
        "class Animal:\n",
        "    def __init__(self, name=\"goat\"):  # __init__ is the constructor, self == \"this\"\n",
        "        print(\"Constructor called!\")\n",
        "        self.name = name\n",
        "        self.leg_count = 4\n",
        "        self.color = \"various\"\n",
        "        self.has_tail = True\n",
        "\n",
        "    def get_name(self):\n",
        "        return self.name\n",
        "\n",
        "    def make_sound(self):\n",
        "        return \"generic animal sound\"\n",
        "\n",
        "# Make a new Animal\n",
        "# Make a new instance of an Animal\n",
        "# Make a new Animal object\n",
        "\n",
        "print(\"About to make a new Animal object\")\n",
        "a = Animal()   #  Makes a goat by default\n",
        "b = Animal(\"dog\")\n",
        "print(\"Done making a new Animal object\")\n",
        "\n",
        "print(a.get_name())\n",
        "print(b.get_name())\n",
        "\n",
        "# Referring directly to attributes:\n",
        "print(a.name)\n",
        "a.name = \"GOAT!\"\n",
        "print(a.name)"
      ],
      "execution_count": 40,
      "outputs": [
        {
          "output_type": "stream",
          "text": [
            "About to make a new Animal object\n",
            "Constructor called!\n",
            "Constructor called!\n",
            "Done making a new Animal object\n",
            "goat\n",
            "dog\n",
            "goat\n",
            "GOAT!\n"
          ],
          "name": "stdout"
        }
      ]
    },
    {
      "cell_type": "code",
      "metadata": {
        "id": "5jd0BYVATKte"
      },
      "source": [
        "# Preview of Linked Lists\n",
        "\n",
        "class ListNode:\n",
        "    def __init__(self, value):\n",
        "        self.value = value\n",
        "        self.next = None\n",
        "\n",
        "head = ListNode(0)\n",
        "head.next = ListNode(1)\n",
        "head.next.next = ListNode(2)"
      ],
      "execution_count": null,
      "outputs": []
    }
  ]
}